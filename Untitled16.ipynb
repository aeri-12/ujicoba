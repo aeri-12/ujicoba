{
  "nbformat": 4,
  "nbformat_minor": 0,
  "metadata": {
    "colab": {
      "name": "Untitled16.ipynb",
      "provenance": [],
      "collapsed_sections": []
    },
    "kernelspec": {
      "name": "python3",
      "display_name": "Python 3"
    },
    "language_info": {
      "name": "python"
    }
  },
  "cells": [
    {
      "cell_type": "code",
      "execution_count": 1,
      "metadata": {
        "colab": {
          "base_uri": "https://localhost:8080/"
        },
        "id": "D-ohueHy1Smz",
        "outputId": "87f389c3-487e-45fc-bd3a-c7443e868198"
      },
      "outputs": [
        {
          "output_type": "stream",
          "name": "stdout",
          "text": [
            "PROGRAM KONVERSI BILANGAN\n",
            "Masukkan nilai dalam satuan kilogram : 2\n",
            "Input masukan : 2.0 kg\n",
            "Hasil konversi : 2000.0 g\n"
          ]
        }
      ],
      "source": [
        "print('PROGRAM KONVERSI BILANGAN')\n",
        "\n",
        "kilogram = float(input('Masukkan nilai dalam satuan kilogram : '))\n",
        "gram = kilogram * 1000\n",
        "\n",
        "print('Input masukan : {} kg'.format(float(kilogram)))\n",
        "print('Hasil konversi : {} g'.format(float(gram)))"
      ]
    }
  ]
}